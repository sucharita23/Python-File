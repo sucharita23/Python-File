{
 "cells": [
  {
   "cell_type": "code",
   "execution_count": null,
   "id": "0780313e",
   "metadata": {},
   "outputs": [],
   "source": [
    "#1.Create a list and fetch all from the list and print these values.\n",
    "\n"
   ]
  },
  {
   "cell_type": "code",
   "execution_count": 5,
   "id": "f4f0dbca",
   "metadata": {},
   "outputs": [
    {
     "name": "stdout",
     "output_type": "stream",
     "text": [
      "python\n",
      "java\n",
      "R\n",
      "SQL\n"
     ]
    }
   ],
   "source": [
    "# 2. Write a python program to print the length of a list.\n",
    "\n",
    "a = [\"python\",\"java\",\"R\",\"SQL\"]\n",
    "\n",
    "for i in range(len(a)):\n",
    "    print(a[i])"
   ]
  },
  {
   "cell_type": "code",
   "execution_count": 17,
   "id": "3f26c7bb",
   "metadata": {},
   "outputs": [
    {
     "name": "stdout",
     "output_type": "stream",
     "text": [
      "Item is not present in this list\n"
     ]
    }
   ],
   "source": [
    "# 3.Write a python program to check if an element is present or not in the list.\n",
    "# If present print “Item is present in this list” or print “Item is not present in this list”.\n",
    "\n",
    "a = [\"python\",\"java\",\"R\",\"SQL\"]\n",
    "element = \"C\"\n",
    "\n",
    "if element in a:\n",
    "    print(\"Item is present in this list\")\n",
    "else:\n",
    "    print(\"Item is not present in this list\")   "
   ]
  },
  {
   "cell_type": "code",
   "execution_count": 21,
   "id": "d470b0e9",
   "metadata": {},
   "outputs": [
    {
     "name": "stdout",
     "output_type": "stream",
     "text": [
      "[]\n"
     ]
    }
   ],
   "source": [
    "# 4.Different way to clear a list\n",
    "\n",
    "a = [\"python\",\"java\",\"R\",\"SQL\"]\n",
    "\n",
    "for i in a:\n",
    "    a.clear()\n",
    "    \n",
    "print(a)    "
   ]
  },
  {
   "cell_type": "code",
   "execution_count": 22,
   "id": "7016be00",
   "metadata": {},
   "outputs": [
    {
     "name": "stdout",
     "output_type": "stream",
     "text": [
      "['python', 'java', 'R', 'SQL', 'HTML', 'C++', 'C', 'C#']\n"
     ]
    }
   ],
   "source": [
    "# 4.1. Write a program to add all the elements in this list\n",
    "\n",
    "a = [\"python\",\"java\",\"R\",\"SQL\"]\n",
    "\n",
    "b = [\"HTML\", \"C++\"]\n",
    "\n",
    "c = [\"C\", \"C#\"]\n",
    "\n",
    "add = a + b + c\n",
    "\n",
    "print(add)"
   ]
  },
  {
   "cell_type": "code",
   "execution_count": 26,
   "id": "49eeafb5",
   "metadata": {},
   "outputs": [
    {
     "name": "stdout",
     "output_type": "stream",
     "text": [
      "['python', 'java', 'R', 'SQL']\n"
     ]
    }
   ],
   "source": [
    "# 5. Copy a list in to another list\n",
    "\n",
    "a = [\"python\",\"java\",\"R\",\"SQL\"]\n",
    "\n",
    "b = a\n",
    "\n",
    "print(b)"
   ]
  },
  {
   "cell_type": "code",
   "execution_count": 30,
   "id": "2e005730",
   "metadata": {},
   "outputs": [
    {
     "name": "stdout",
     "output_type": "stream",
     "text": [
      "maximum number in a list 24\n"
     ]
    }
   ],
   "source": [
    "# 6.Find the maximum and minimum number in a list\n",
    "\n",
    "a = [5, 7, 4, 12, 24, 8, 9]\n",
    "\n",
    "max_num = a[0]\n",
    "for i in range(len(a)):\n",
    "    if a[i]  > max_num:\n",
    "        max_num = a[i]\n",
    "print(\"maximum number in a list\" , max_num)"
   ]
  },
  {
   "cell_type": "code",
   "execution_count": 31,
   "id": "8e975c1c",
   "metadata": {},
   "outputs": [
    {
     "name": "stdout",
     "output_type": "stream",
     "text": [
      "minimum number in a list 4\n"
     ]
    }
   ],
   "source": [
    "a = [5, 7, 4, 12, 24, 8, 9]\n",
    "\n",
    "min_num = a[0]\n",
    "for i in range(len(a)):\n",
    "    if a[i]  < min_num:\n",
    "        min_num = a[i]\n",
    "print(\"minimum number in a list\" , min_num)"
   ]
  },
  {
   "cell_type": "code",
   "execution_count": 42,
   "id": "4847f2b7",
   "metadata": {},
   "outputs": [
    {
     "name": "stdout",
     "output_type": "stream",
     "text": [
      "multiply two lists :  [16, 32, 12, 12]\n"
     ]
    }
   ],
   "source": [
    "# 7. Write a program to multiply two lists and save them into another list. \n",
    "\n",
    "a = [8, 4, 6, 2]\n",
    "\n",
    "b = [2, 8, 2, 6]\n",
    "\n",
    "c = []\n",
    "\n",
    "for i in range(len(a)):\n",
    "    c.append(a[i] * b[i])\n",
    "\n",
    "print(\"multiply two lists : \", c)"
   ]
  },
  {
   "cell_type": "code",
   "execution_count": null,
   "id": "29bcb094",
   "metadata": {},
   "outputs": [],
   "source": [
    "# 8..Create a tuple and fetch all the from the tuple and print these values."
   ]
  },
  {
   "cell_type": "code",
   "execution_count": 47,
   "id": "3a74d58f",
   "metadata": {},
   "outputs": [
    {
     "name": "stdout",
     "output_type": "stream",
     "text": [
      "python\n",
      "java\n",
      "R\n",
      "SQL\n"
     ]
    }
   ],
   "source": [
    "# 9.Write a python program to print the length of a tuple.\n",
    "\n",
    "a = (\"python\",\"java\",\"R\",\"SQL\")\n",
    "\n",
    "for i in range(len(a)):\n",
    "    print(a[i])"
   ]
  },
  {
   "cell_type": "code",
   "execution_count": 48,
   "id": "e39927e0",
   "metadata": {},
   "outputs": [
    {
     "name": "stdout",
     "output_type": "stream",
     "text": [
      "['python', 'java', 'R', 'SQL', 2, 8, 2, 6]\n"
     ]
    }
   ],
   "source": [
    "# 10.Write a python program to add two different tuples.\n",
    "\n",
    "a = [\"python\",\"java\",\"R\",\"SQL\"]\n",
    "\n",
    "b = [2, 8, 2, 6]\n",
    "\n",
    "c = a + b\n",
    "\n",
    "print(c)"
   ]
  },
  {
   "cell_type": "code",
   "execution_count": null,
   "id": "1c4e8543",
   "metadata": {},
   "outputs": [],
   "source": [
    "# 11.Create a dictionary and fetch all from the dictionary and print these values.\n",
    "\n"
   ]
  },
  {
   "cell_type": "code",
   "execution_count": 51,
   "id": "563f8c5b",
   "metadata": {},
   "outputs": [
    {
     "name": "stdout",
     "output_type": "stream",
     "text": [
      "{'python': 5, 'java': 8, 'R': 7, 'SQL': 1}\n"
     ]
    }
   ],
   "source": [
    "# 12. Get all the keys and values from a dictionary.\n",
    "\n",
    "a = {\"python\" : 5 ,\"java\" : 8 ,\"R\" : 7 ,\"SQL\" : 1}\n",
    "\n",
    "print(a)"
   ]
  },
  {
   "cell_type": "code",
   "execution_count": 53,
   "id": "049f6383",
   "metadata": {},
   "outputs": [
    {
     "name": "stdout",
     "output_type": "stream",
     "text": [
      "{'python': 5, 'java': 8, 'R': 7, 'SQL': 1, 'C++': 9}\n"
     ]
    }
   ],
   "source": [
    "# 13. Add a new Item in a dictionary.\n",
    "\n",
    "a = {\"python\" : 5 ,\"java\" : 8 ,\"R\" : 7 ,\"SQL\" : 1}\n",
    "\n",
    "a[\"C++\"] = 9\n",
    "\n",
    "print(a)"
   ]
  },
  {
   "cell_type": "code",
   "execution_count": 61,
   "id": "acb675d8",
   "metadata": {},
   "outputs": [
    {
     "name": "stdout",
     "output_type": "stream",
     "text": [
      "Merging two different dictionary :  ({'python': 5, 'java': 8, 'R': 7, 'SQL': 1}, {'HTML': 1, 'C++': 3})\n"
     ]
    }
   ],
   "source": [
    "# 14.Merging two different dictionary.\n",
    "\n",
    "a = {\"python\" : 5 ,\"java\" : 8 ,\"R\" : 7 ,\"SQL\" : 1}\n",
    "\n",
    "b = {\"HTML\" : 1, \"C++\" :3}\n",
    "\n",
    "marge = a , b\n",
    "\n",
    "print(\"Merging two different dictionary : \", marge)"
   ]
  }
 ],
 "metadata": {
  "kernelspec": {
   "display_name": "Python 3 (ipykernel)",
   "language": "python",
   "name": "python3"
  },
  "language_info": {
   "codemirror_mode": {
    "name": "ipython",
    "version": 3
   },
   "file_extension": ".py",
   "mimetype": "text/x-python",
   "name": "python",
   "nbconvert_exporter": "python",
   "pygments_lexer": "ipython3",
   "version": "3.9.7"
  }
 },
 "nbformat": 4,
 "nbformat_minor": 5
}
