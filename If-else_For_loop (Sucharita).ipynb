{
 "cells": [
  {
   "cell_type": "code",
   "execution_count": 1,
   "id": "1fa386ff",
   "metadata": {},
   "outputs": [
    {
     "name": "stdout",
     "output_type": "stream",
     "text": [
      "enter a number : 14\n",
      "14 is divisible by 7.\n"
     ]
    }
   ],
   "source": [
    "# Write a program to check a number is divisible by 7 or not\n",
    "\n",
    "n = int(input(\"enter a number : \"))   # input a number\n",
    "if n % 7 == 0: \n",
    "    print(n, \"is divisible by 7.\")     # using if \n",
    "else: \n",
    "    print(n, \"is not divisible by 7.\")  # using else"
   ]
  },
  {
   "cell_type": "code",
   "execution_count": 23,
   "id": "6bfe29a4",
   "metadata": {},
   "outputs": [
    {
     "name": "stdout",
     "output_type": "stream",
     "text": [
      "enter a number : 7\n",
      "Bye\n"
     ]
    }
   ],
   "source": [
    "# Write a program to display “Hello” if a number entered by the user is multiple of 5 otherwise print “Bye”.\n",
    "\n",
    "num=int(input(\"enter a number : \"))   # input a number\n",
    "if num%5==0:\n",
    "    print(\"Hello\")                     # using if\n",
    "else:\n",
    "    print(\"Bye\")                      # using else"
   ]
  },
  {
   "cell_type": "code",
   "execution_count": 22,
   "id": "1c3c6031",
   "metadata": {},
   "outputs": [
    {
     "name": "stdout",
     "output_type": "stream",
     "text": [
      "enter a number: 861351734\n",
      "last digits of a number 861351734 = 4\n"
     ]
    }
   ],
   "source": [
    "# Write a program to print last digits of a number.\n",
    "\n",
    "a = int(input(\"enter a number: \"))                           # input a number\n",
    "last_digit = a % 10\n",
    "print(\"last digits of a number %d = %d\" %(a, last_digit))     # print last digits of a number"
   ]
  },
  {
   "cell_type": "code",
   "execution_count": 5,
   "id": "c2d9590a",
   "metadata": {},
   "outputs": [
    {
     "name": "stdout",
     "output_type": "stream",
     "text": [
      "enter a number: 5\n",
      "number is positive\n",
      "5\n"
     ]
    }
   ],
   "source": [
    "# Write a python program to check a number(accept from user) positive or negative.\n",
    "\n",
    "a = int(input(\"enter a number: \"))     #enter input function\n",
    "\n",
    "if(a>0):\n",
    "    print(\"number is positive\")        #enter positive value\n",
    "else:\n",
    "    print(\"number is negative\")        #enter negative value\n",
    "    \n",
    "    \n",
    "print(a)  "
   ]
  },
  {
   "cell_type": "code",
   "execution_count": 24,
   "id": "960cb3b0",
   "metadata": {},
   "outputs": [
    {
     "name": "stdout",
     "output_type": "stream",
     "text": [
      "enter a number :45\n",
      "enter a number :63\n",
      "number is divisible\n"
     ]
    }
   ],
   "source": [
    "# Write a python program to check a number(accept from user) divisible by 2 and 3.\n",
    "\n",
    "n = int (input (\"enter a number :\"))  #enter input function\n",
    "d = int (input (\"enter a number :\"))  # enter input function\n",
    "if n%d == 0: \n",
    "    print (\"number is divisible\") \n",
    "else: \n",
    "    print (\"number is divisible\")"
   ]
  },
  {
   "cell_type": "code",
   "execution_count": 25,
   "id": "e1cd6678",
   "metadata": {},
   "outputs": [
    {
     "name": "stdout",
     "output_type": "stream",
     "text": [
      "1\n",
      "2\n",
      "3\n",
      "4\n",
      "5\n",
      "6\n",
      "7\n",
      "8\n",
      "9\n",
      "10\n"
     ]
    }
   ],
   "source": [
    "# Print First 10 natural numbers using while loop.\n",
    "\n",
    "a = 0            \n",
    "while(a<=9):\n",
    "    a += 1\n",
    "    print(a)"
   ]
  },
  {
   "cell_type": "code",
   "execution_count": 14,
   "id": "96802307",
   "metadata": {},
   "outputs": [
    {
     "name": "stdout",
     "output_type": "stream",
     "text": [
      "10 x 1 = 10\n",
      "10 x 2 = 20\n",
      "10 x 3 = 30\n",
      "10 x 4 = 40\n",
      "10 x 5 = 50\n",
      "10 x 6 = 60\n",
      "10 x 7 = 70\n",
      "10 x 8 = 80\n",
      "10 x 9 = 90\n",
      "10 x 10 = 100\n"
     ]
    }
   ],
   "source": [
    "# Write a program to print multiplication table of a given number.\n",
    "\n",
    "num = 10                             # multiplication table of a given number\n",
    "\n",
    "for i in range(1, 11):                  # using loop for conditional statement\n",
    "    print(num, 'x', i, '=', num*i)"
   ]
  },
  {
   "cell_type": "code",
   "execution_count": 20,
   "id": "996d17be",
   "metadata": {},
   "outputs": [
    {
     "name": "stdout",
     "output_type": "stream",
     "text": [
      "-10\n",
      "-9\n",
      "-8\n",
      "-7\n",
      "-6\n",
      "-5\n",
      "-4\n",
      "-3\n",
      "-2\n",
      "-1\n"
     ]
    }
   ],
   "source": [
    "# Display numbers from -10 to -1 using for loop.\n",
    "\n",
    "a = [-10, -9, -8, -7, -6, -5, -4, -3, -2, -1]         # using list \n",
    "for i in a:                                           # loop statement\n",
    "    print(i)"
   ]
  },
  {
   "cell_type": "code",
   "execution_count": 26,
   "id": "1f9c8119",
   "metadata": {},
   "outputs": [
    {
     "name": "stdout",
     "output_type": "stream",
     "text": [
      "enter a number: 246854\n",
      "reverse of the number: 458642\n"
     ]
    }
   ],
   "source": [
    "# Reverse a given integer number.\n",
    "\n",
    "a=int(input(\"enter a number: \"))    # enter input function\n",
    "rev=0                             # reverse number\n",
    "while(a>0):                      # using while loop\n",
    "    dig=a%10\n",
    "    rev=rev*10+dig\n",
    "    a=a//10\n",
    "print(\"reverse of the number:\",rev)   # print reverse number"
   ]
  },
  {
   "cell_type": "code",
   "execution_count": 18,
   "id": "9e9a8a42",
   "metadata": {},
   "outputs": [
    {
     "name": "stdout",
     "output_type": "stream",
     "text": [
      "[9, 8, 7, 6, 5, 4, 3, 2, 1]\n"
     ]
    }
   ],
   "source": [
    "# Print list in reverse order using a loop.\n",
    "\n",
    "original_list = [1,2,3,4,5,6,7,8,9]           # main list\n",
    "reversed_list = list()                        # check reverse list\n",
    "\n",
    "for item in original_list:                     # conditional statement\n",
    "    reversed_list = [item] + reversed_list\n",
    "\n",
    "print(reversed_list)                         # print reverse in order"
   ]
  }
 ],
 "metadata": {
  "kernelspec": {
   "display_name": "Python 3 (ipykernel)",
   "language": "python",
   "name": "python3"
  },
  "language_info": {
   "codemirror_mode": {
    "name": "ipython",
    "version": 3
   },
   "file_extension": ".py",
   "mimetype": "text/x-python",
   "name": "python",
   "nbconvert_exporter": "python",
   "pygments_lexer": "ipython3",
   "version": "3.9.7"
  }
 },
 "nbformat": 4,
 "nbformat_minor": 5
}
