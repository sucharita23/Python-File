{
 "cells": [
  {
   "cell_type": "code",
   "execution_count": 7,
   "id": "014daca5",
   "metadata": {},
   "outputs": [
    {
     "name": "stdout",
     "output_type": "stream",
     "text": [
      "[1, 8, 27, 64]\n"
     ]
    }
   ],
   "source": [
    "# Calculate the cube of all numbers from 1 to a given number\n",
    "\n",
    "a = [1, 2, 3, 4]                       # Initializing list\n",
    " \n",
    "res = []                              # Cube List using loop\n",
    "for i in a:\n",
    "    res.append(i*i*i)\n",
    "print(res)                            # printing result"
   ]
  },
  {
   "cell_type": "code",
   "execution_count": 10,
   "id": "3e377258",
   "metadata": {},
   "outputs": [
    {
     "name": "stdout",
     "output_type": "stream",
     "text": [
      "elements from a given list present at odd index positions : \n",
      "1\n",
      "3\n",
      "5\n"
     ]
    }
   ],
   "source": [
    "# Use a loop to display elements from a given list present at odd index positions.\n",
    "     \n",
    "a = [1, 2, 3, 4, 5];            #Initialize list\n",
    "     \n",
    "print(\"elements from a given list present at odd index positions : \");        \n",
    "    \n",
    "for i in range(0, len(a), 2):                       #Loop through the array by incrementing the value\n",
    "    print(a[i]);     "
   ]
  },
  {
   "cell_type": "code",
   "execution_count": null,
   "id": "20b08187",
   "metadata": {},
   "outputs": [],
   "source": [
    "# "
   ]
  },
  {
   "cell_type": "code",
   "execution_count": 22,
   "id": "8100e0f7",
   "metadata": {},
   "outputs": [
    {
     "name": "stdout",
     "output_type": "stream",
     "text": [
      "enter number : 5\n",
      "1 \n",
      "1 2 \n",
      "1 2 3 \n",
      "1 2 3 4 \n",
      "1 2 3 4 5 \n"
     ]
    }
   ],
   "source": [
    "# Print the following pattern\n",
    "# 1 \n",
    "# 1 2 \n",
    "# 1 2 3 \n",
    "# 1 2 3 4 \n",
    "# 1 2 3 4 5\n",
    "\n",
    "\n",
    "a = int(input('enter number : '))\n",
    "\n",
    "for i in range(1, a + 1):          # nested loop\n",
    "    for j in range(1, i + 1):          # display number\n",
    "        print(j, end=' ')             # new line after each row\n",
    "    print('')"
   ]
  },
  {
   "cell_type": "code",
   "execution_count": 24,
   "id": "70daa874",
   "metadata": {},
   "outputs": [
    {
     "name": "stdout",
     "output_type": "stream",
     "text": [
      "main list  [1, 2, 3, 1, 2, 4, 5, 4, 6, 2]\n",
      "remove duplicates from a list :   [1, 2, 3, 4, 5, 6]\n"
     ]
    }
   ],
   "source": [
    "# Write a Python program to remove duplicates from a list.\n",
    "\n",
    "a = [1, 2, 3, 1, 2, 4, 5, 4 ,6, 2]\n",
    "print(\"main list \", a)\n",
    "temp_list = []\n",
    "\n",
    "for i in a:\n",
    "    if i not in temp_list:\n",
    "        temp_list.append(i)\n",
    "\n",
    "a = temp_list\n",
    "\n",
    "print(\"remove duplicates from a list :  \", a)"
   ]
  },
  {
   "cell_type": "code",
   "execution_count": 29,
   "id": "5b3f375f",
   "metadata": {},
   "outputs": [
    {
     "name": "stdout",
     "output_type": "stream",
     "text": [
      "List is not empty\n"
     ]
    }
   ],
   "source": [
    "# Write a Python program to check if a list is empty or not.\n",
    "\n",
    "a = [1,2,3,4,5]\n",
    "\n",
    "# evaluating empty list object to False\n",
    "if not lst:\n",
    "    print('empty list')\n",
    "else:\n",
    "    print(\"List is not empty\")"
   ]
  },
  {
   "cell_type": "code",
   "execution_count": 30,
   "id": "44b5b98b",
   "metadata": {},
   "outputs": [
    {
     "name": "stdout",
     "output_type": "stream",
     "text": [
      "enter number : 5\n",
      "* \n",
      "* * \n",
      "* * * \n",
      "* * * * \n",
      "* * * * * \n"
     ]
    }
   ],
   "source": [
    "# Print the following pattern\n",
    "# * \n",
    "# * * \n",
    "# * * * \n",
    "# * * * * \n",
    "# * * * * *\n",
    "\n",
    "a = int(input('enter number : '))\n",
    "for i in range(0, a):                    # nested loop for each column\n",
    "    \n",
    "    for j in range(0, i + 1):                # print star\n",
    "       \n",
    "        print(\"*\", end=' ')                   # new line after each row\n",
    "   \n",
    "    print(\"\\r\")"
   ]
  },
  {
   "cell_type": "code",
   "execution_count": null,
   "id": "765044da",
   "metadata": {},
   "outputs": [],
   "source": [
    "# Write a Python program to calculate the difference between the two lists.\n"
   ]
  },
  {
   "cell_type": "code",
   "execution_count": null,
   "id": "c7e04b65",
   "metadata": {},
   "outputs": [],
   "source": [
    "# Write a Python program to find the second smallest and second largest  number in a list."
   ]
  },
  {
   "cell_type": "code",
   "execution_count": null,
   "id": "caaffe37",
   "metadata": {},
   "outputs": [],
   "source": [
    "# Write a Python program to check whether a list contains a sublist."
   ]
  },
  {
   "cell_type": "code",
   "execution_count": 57,
   "id": "54154466",
   "metadata": {},
   "outputs": [
    {
     "name": "stdout",
     "output_type": "stream",
     "text": [
      "enter number : 5\n",
      "A\n",
      "BB\n",
      "CCC\n",
      "DDDD\n",
      "EEEEE\n"
     ]
    }
   ],
   "source": [
    "# Print the following program\n",
    "# A\n",
    "# B B\n",
    "# C C C\n",
    "# D D D D\n",
    "# E E E E E\n",
    "\n",
    "n = int(input(\"enter number : \"))\n",
    "i=1\n",
    "\n",
    "while i <= n:\n",
    "    j=1\n",
    "    while j <= i:\n",
    "        ch = chr(ord('A')+i-1)\n",
    "        print(ch,end='')            \n",
    "        j=j+1\n",
    "    print()\n",
    "    i=i+1"
   ]
  }
 ],
 "metadata": {
  "kernelspec": {
   "display_name": "Python 3 (ipykernel)",
   "language": "python",
   "name": "python3"
  },
  "language_info": {
   "codemirror_mode": {
    "name": "ipython",
    "version": 3
   },
   "file_extension": ".py",
   "mimetype": "text/x-python",
   "name": "python",
   "nbconvert_exporter": "python",
   "pygments_lexer": "ipython3",
   "version": "3.9.7"
  }
 },
 "nbformat": 4,
 "nbformat_minor": 5
}
