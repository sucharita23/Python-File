{
 "cells": [
  {
   "cell_type": "code",
   "execution_count": 2,
   "id": "51ce9c83",
   "metadata": {},
   "outputs": [
    {
     "name": "stdout",
     "output_type": "stream",
     "text": [
      "[1, 2.5, 'sun']\n"
     ]
    }
   ],
   "source": [
    "# 1. Create a List (using list method and []) and print this list.\n",
    "\n",
    "a = [1,2.5,\"sun\"]\n",
    "\n",
    "print(a)"
   ]
  },
  {
   "cell_type": "code",
   "execution_count": 5,
   "id": "34b0942c",
   "metadata": {},
   "outputs": [
    {
     "name": "stdout",
     "output_type": "stream",
     "text": [
      "1\n",
      "2.5\n",
      "sun\n"
     ]
    }
   ],
   "source": [
    "# 2. Access all the list element using loop.\n",
    "\n",
    "a = [1,2.5,\"sun\"]\n",
    "\n",
    "for i in a:\n",
    "    print(i)"
   ]
  },
  {
   "cell_type": "code",
   "execution_count": 7,
   "id": "6c81750e",
   "metadata": {},
   "outputs": [
    {
     "name": "stdout",
     "output_type": "stream",
     "text": [
      "[1, 7, 9, 'moon', 2.5, 'sun']\n"
     ]
    }
   ],
   "source": [
    "# 3. Change a list element.\n",
    "\n",
    "a = [1,8,5,2.5,\"sun\"]\n",
    "\n",
    "a [1:3] = [7,9,\"moon\"]\n",
    "\n",
    "print(a)\n"
   ]
  },
  {
   "cell_type": "code",
   "execution_count": 11,
   "id": "2184f3de",
   "metadata": {},
   "outputs": [
    {
     "name": "stdout",
     "output_type": "stream",
     "text": [
      "[1, 8, 5, 2.5, 'sun', 7, 9, 'moon']\n"
     ]
    }
   ],
   "source": [
    "# 4. Sum all the numbers in a list.(without using any function).\n",
    "\n",
    "a = [1,8,5,2.5,\"sun\"]\n",
    "\n",
    "b =  [7,9,\"moon\"]\n",
    "\n",
    "sum = a + b\n",
    "\n",
    "print(sum)"
   ]
  },
  {
   "cell_type": "code",
   "execution_count": 2,
   "id": "335eeba1",
   "metadata": {},
   "outputs": [
    {
     "name": "stdout",
     "output_type": "stream",
     "text": [
      "1\n"
     ]
    }
   ],
   "source": [
    "# 5. Calculate min and maximum element in a list. (don’t use inbuild function)\n",
    "\n",
    "def min_value(list):\n",
    "   \n",
    "    min = list[0]                            # set first element as minimum\n",
    "    for i in list:\n",
    "        \n",
    "        if i < min:                          # check if the current element is less than minimum\n",
    "            min = i\n",
    "    return min\n",
    "\n",
    "a = [2,4,8,5,7,9,6,1,4,5]\n",
    "\n",
    "print(min_value(a))"
   ]
  },
  {
   "cell_type": "code",
   "execution_count": 3,
   "id": "16d09e04",
   "metadata": {},
   "outputs": [
    {
     "name": "stdout",
     "output_type": "stream",
     "text": [
      "9\n"
     ]
    }
   ],
   "source": [
    "# 5. Calculate min and maximum element in a list. (don’t use inbuild function)\n",
    "\n",
    "def max_value(list):\n",
    "   \n",
    "    max = list[0]                            # set first element as maximum\n",
    "    for i in list:\n",
    "        \n",
    "        if i > max:                          # check if the current element is less than maximum\n",
    "            max = i\n",
    "    return max\n",
    "\n",
    "a = [2,4,8,5,7,9,6,1,4,5]\n",
    "\n",
    "print(max_value(a))"
   ]
  },
  {
   "cell_type": "code",
   "execution_count": 23,
   "id": "0255bace",
   "metadata": {},
   "outputs": [
    {
     "name": "stdout",
     "output_type": "stream",
     "text": [
      "enter a value193\n",
      "0b11000001\n",
      "0o301\n",
      "0xc1\n"
     ]
    }
   ],
   "source": [
    "# 6. Python Program to Convert Decimal to Binary, Octal and Hexadecimal.\n",
    "\n",
    "a = int(input(\"enter a value\"))\n",
    "\n",
    "print(bin(a))\n",
    "print(oct(a))\n",
    "print(hex(a))"
   ]
  },
  {
   "cell_type": "code",
   "execution_count": 9,
   "id": "56298bbb",
   "metadata": {},
   "outputs": [
    {
     "name": "stdout",
     "output_type": "stream",
     "text": [
      "Original String:  ['earth', 'jupyter', 'sun', 'moon']\n",
      "Reverse String:  moonsunjupyterearth,\n"
     ]
    }
   ],
   "source": [
    "# 7. Write a Python program to reverses a string if it's length is a multiple of 4.\n",
    "\n",
    "def reverse_for(string):                         # Define a function\n",
    "     \n",
    "    reverse_string = ','                          # Declare a string variable\n",
    "\n",
    "    for x in string:                              # Iterate string with for loop\n",
    "        \n",
    "         reverse_string = x +  reverse_string         # Appending in reverse order\n",
    "    return  reverse_string\n",
    "\n",
    "a = [\"earth\",\"jupyter\",\"sun\",\"moon\"]\n",
    "\n",
    "print('Original String: ', a)                   # Print Original and Reverse string\n",
    "print('Reverse String: ', reverse_for(a))"
   ]
  },
  {
   "cell_type": "code",
   "execution_count": 43,
   "id": "f5d6844e",
   "metadata": {},
   "outputs": [
    {
     "name": "stdout",
     "output_type": "stream",
     "text": [
      "1\n"
     ]
    }
   ],
   "source": [
    "# 8. Write a Python program to count occurrences of a substring in a string.\n",
    "\n",
    "str = 'my name is sun'                    # the string\n",
    " \n",
    "substr = 'is'                             # substring\n",
    " \n",
    "print(str.count(substr))                  # finding number of occurrences of substring in given string"
   ]
  },
  {
   "cell_type": "code",
   "execution_count": 34,
   "id": "df2013ee",
   "metadata": {},
   "outputs": [
    {
     "name": "stdout",
     "output_type": "stream",
     "text": [
      "Enter the Character: \n",
      "O\n",
      "it is a Consonant\n"
     ]
    }
   ],
   "source": [
    "# 9. Write a Python program to test whether a passed letter is a vowel or consonant.\n",
    "\n",
    "print(\"Enter the Character: \")\n",
    "c = input()\n",
    "\n",
    "if c=='a' or c=='e' or c=='i' or c=='o' or c=='u':\n",
    "    print(\"it is a Vowel\")\n",
    "elif c=='A' or c=='E' or c=='I' or c=='O' or c=='U':\n",
    "    print(\"it is a Consonant\")                            # print vowel\n",
    "else:\n",
    "    print(\"it is a Consonant\")                            # or consonant"
   ]
  },
  {
   "cell_type": "code",
   "execution_count": null,
   "id": "48aa2c18",
   "metadata": {},
   "outputs": [],
   "source": [
    "# 10. Find out the longest and smallest word in the input string."
   ]
  },
  {
   "cell_type": "code",
   "execution_count": 28,
   "id": "484985dd",
   "metadata": {},
   "outputs": [
    {
     "name": "stdout",
     "output_type": "stream",
     "text": [
      "Python Python Python Python Python \n"
     ]
    }
   ],
   "source": [
    "# 11. Print most simultaneously repeated character in input string.\n",
    "\n",
    "str = 'Python '\n",
    "print(str * 5)"
   ]
  },
  {
   "cell_type": "code",
   "execution_count": 32,
   "id": "2564c441",
   "metadata": {},
   "outputs": [
    {
     "name": "stdout",
     "output_type": "stream",
     "text": [
      "enter a characters: python\n",
      "y\n",
      "h\n",
      "n\n"
     ]
    }
   ],
   "source": [
    "# 12.How to find the characters at an odd position in string input by Use\n",
    " \n",
    "a = input(\"enter a characters: \")      #Input String\n",
    "\n",
    "for index in range(len(a)):            #Check if odd      \n",
    "   \n",
    "    if(index % 2 != 0):\n",
    "        \n",
    "        print(a[index])                #print odd characters"
   ]
  },
  {
   "cell_type": "code",
   "execution_count": 34,
   "id": "c103733a",
   "metadata": {},
   "outputs": [
    {
     "name": "stdout",
     "output_type": "stream",
     "text": [
      "I like moon\n"
     ]
    }
   ],
   "source": [
    "# 13.How to replace all occurrence of sub-string in string.\n",
    "\n",
    "a = \"I like sun\"\n",
    "\n",
    "x = a.replace(\"sun\", \"moon\")\n",
    "\n",
    "print(x)"
   ]
  },
  {
   "cell_type": "code",
   "execution_count": 17,
   "id": "7e401bf5",
   "metadata": {},
   "outputs": [
    {
     "name": "stdout",
     "output_type": "stream",
     "text": [
      "the number of matching characters in two string :  ['o', 'I', 'l', 'e', 'n', ' ']\n"
     ]
    }
   ],
   "source": [
    "# 14.How to find the number of matching characters in two string\n",
    "\n",
    "a = \"I love sun\"\n",
    "b = \"I like moon\"\n",
    "\n",
    "x=list(set(a)&set(b))\n",
    "print(\"the number of matching characters in two string : \",x)"
   ]
  },
  {
   "cell_type": "code",
   "execution_count": 18,
   "id": "2a56f6a4",
   "metadata": {},
   "outputs": [
    {
     "name": "stdout",
     "output_type": "stream",
     "text": [
      "['python']\n"
     ]
    }
   ],
   "source": [
    "# 15.How to convert a string in list.\n",
    "\n",
    "def Convert(string):\n",
    "    lis = list(string.split(\" \"))\n",
    "    return lis\n",
    "string = \"python\"\n",
    "print(Convert(string))"
   ]
  },
  {
   "cell_type": "code",
   "execution_count": null,
   "id": "ba4d73db",
   "metadata": {},
   "outputs": [],
   "source": [
    "# 16.How to convert all string elements of list to int.\n"
   ]
  },
  {
   "cell_type": "code",
   "execution_count": null,
   "id": "e382e7c2",
   "metadata": {},
   "outputs": [],
   "source": [
    "# 17.Count Total numbers of upper case and lower case characters in input string\n",
    "\n"
   ]
  },
  {
   "cell_type": "code",
   "execution_count": 21,
   "id": "a9c023f8",
   "metadata": {},
   "outputs": [
    {
     "name": "stdout",
     "output_type": "stream",
     "text": [
      "['a', 'b', 'c', 'd', 'e', 'f', 'g', 'h']\n"
     ]
    }
   ],
   "source": [
    "# 18.Program to sort a string in Python\n",
    "\n",
    "a = (\"h\", \"b\", \"a\", \"c\", \"f\", \"d\", \"e\", \"g\")\n",
    "x = sorted(a)\n",
    "print(x)"
   ]
  },
  {
   "cell_type": "code",
   "execution_count": 26,
   "id": "4476b146",
   "metadata": {},
   "outputs": [
    {
     "name": "stdout",
     "output_type": "stream",
     "text": [
      "enter a string :  sun\n",
      "String in upper case :  SUN\n",
      "String in lower case :  sun\n"
     ]
    }
   ],
   "source": [
    "# 19.How to print input string in upper case and lower case\n",
    "\n",
    "a = input(\"enter a string :  \")\n",
    " \n",
    "print (\"String in upper case : \", a.upper())\n",
    "print (\"String in lower case : \", a.lower()) \n",
    "  "
   ]
  },
  {
   "cell_type": "code",
   "execution_count": 36,
   "id": "e6885993",
   "metadata": {},
   "outputs": [],
   "source": [
    "# 20.Write a program to make a new string with all the consonents deleted from the string \"Hello, have a good day\"\n",
    "\n",
    "c = [\"a\",\"e\",\"i\",\"o\",\"u\",\"A\",\"E\",\"I\",\"O\",\"U\",\" \"]\n",
    "b = \"Hello, have a good day\"\n",
    "\n",
    "\n",
    "\n",
    "for i in b:\n",
    "    if c=='a' or c=='e' or c=='i' or c=='o' or c=='u':\n",
    "\n",
    "    \n",
    "     print(\"it is a Vowel\") \n",
    "\n",
    "   "
   ]
  },
  {
   "cell_type": "code",
   "execution_count": 12,
   "id": "830b17a5",
   "metadata": {},
   "outputs": [
    {
     "name": "stdout",
     "output_type": "stream",
     "text": [
      "<class 'str'>\n",
      "<class 'bytes'>\n"
     ]
    }
   ],
   "source": [
    "# 21.Python Program to Convert Bytes to a String\n",
    "\n",
    "a = 'sun'\n",
    "b = b'sun'\n",
    "print(type(a))\n",
    "print(type(b)) "
   ]
  },
  {
   "cell_type": "code",
   "execution_count": 14,
   "id": "9c7cd1f0",
   "metadata": {},
   "outputs": [
    {
     "name": "stdout",
     "output_type": "stream",
     "text": [
      "1505,1540,1575,1610,1645,1680,1715,1750,1785,1820,1855,1890,1925,1960,1995,2030,2065,2100,2135,2170,2205,2240,2275,2310,2345,2380,2415,2450,2485,2520,2555,2590,2625,2660,2695\n"
     ]
    }
   ],
   "source": [
    "# 22.Write a Python program to find those numbers which are divisible by 7 and multiple of 5, \n",
    "# between 1500 and 2700 (both included).\n",
    "\n",
    "a = []\n",
    "for i in range(1500, 2700):\n",
    "    if (i%7==0) and (i%5==0):\n",
    "        a.append(str(i))\n",
    "print (','.join(a))"
   ]
  },
  {
   "cell_type": "code",
   "execution_count": 16,
   "id": "94507b57",
   "metadata": {},
   "outputs": [
    {
     "name": "stdout",
     "output_type": "stream",
     "text": [
      "reverse word : ECNALUBMA\n",
      "AMBULANCE\n",
      "\n"
     ]
    }
   ],
   "source": [
    "# 23.Write a Python program that accepts a word from the user and reverse it.\n",
    "\n",
    "a = input(\"reverse word : \")\n",
    "\n",
    "for char in range(len(a) - 1, -1, -1):\n",
    "    print(a[char], end=\"\")\n",
    "print(\"\\n\")"
   ]
  },
  {
   "cell_type": "code",
   "execution_count": 36,
   "id": "2d80e5c6",
   "metadata": {},
   "outputs": [
    {
     "name": "stdout",
     "output_type": "stream",
     "text": [
      "number of even numbers : 4\n",
      "number of odd numbers : 5\n"
     ]
    }
   ],
   "source": [
    "# 24.Write a Python program to count the number of even and odd numbers from a series of numbers.\n",
    "\n",
    "a = (1, 2, 3, 4, 5, 6, 7, 8, 9)                  # Declaring the tuple\n",
    "odd = 0\n",
    "even = 0\n",
    "for x in a:\n",
    "        if x % 2 ==0:\n",
    "            even+=1\n",
    "        else:\n",
    "            odd+=1\n",
    "print(\"number of even numbers :\", even)\n",
    "print(\"number of odd numbers :\", odd)"
   ]
  },
  {
   "cell_type": "code",
   "execution_count": 57,
   "id": "6d651d26",
   "metadata": {},
   "outputs": [
    {
     "name": "stdout",
     "output_type": "stream",
     "text": [
      "list [1, 7, 3, 90, 23, 4]\n",
      "interchange first and last elements in a list :  [4, 7, 3, 90, 23, 1]\n"
     ]
    }
   ],
   "source": [
    "# 25.Python program to interchange first and last elements in a list\n",
    "\n",
    "a = [1, 7, 3, 90, 23, 4]                         # Creating a list\n",
    "print(\"list\", a)\n",
    "\n",
    "a[0], a[-1] = a[-1], a[0]         # interchange first and last elements in a list\n",
    "\n",
    "print(\"interchange first and last elements in a list : \", a)"
   ]
  },
  {
   "cell_type": "code",
   "execution_count": 59,
   "id": "004615c5",
   "metadata": {},
   "outputs": [
    {
     "name": "stdout",
     "output_type": "stream",
     "text": [
      "swap x element :  10\n",
      "swap y element :  5\n"
     ]
    }
   ],
   "source": [
    "# 26.Python program to swap two elements in a list\n",
    "\n",
    "x = 5\n",
    "y = 10\n",
    "temp = x\n",
    "x = y\n",
    "y = temp\n",
    "\n",
    "print('swap x element : ', x)\n",
    "print('swap y element : ', y)"
   ]
  },
  {
   "cell_type": "code",
   "execution_count": 61,
   "id": "99f3fe9a",
   "metadata": {},
   "outputs": [
    {
     "name": "stdout",
     "output_type": "stream",
     "text": [
      "length of the list is:  3\n"
     ]
    }
   ],
   "source": [
    "# 27.Python | Ways to find length of list\n",
    "\n",
    "a = ['sun', 'moon', 'earth'];                       # creat list \n",
    "\n",
    "counter = 0                                         # counter variable with 0\n",
    "\n",
    "for x in a :                                        # Run for loop to calculate length of list counter by 1\n",
    "    counter = counter + 1\n",
    "print(\"length of the list is: \", counter)"
   ]
  },
  {
   "cell_type": "code",
   "execution_count": 66,
   "id": "43a3b123",
   "metadata": {},
   "outputs": [
    {
     "name": "stdout",
     "output_type": "stream",
     "text": [
      "list :  [1, 6, 3, 5, 3, 4]\n",
      "element exists in list :  3\n"
     ]
    }
   ],
   "source": [
    "# 28.Python | Ways to check if element exists in list\n",
    "\n",
    "a = [1, 6, 3, 5, 3, 4]                     # create list\n",
    "print(\"list : \", a)\n",
    " \n",
    "if 3 in a:                                 # check if element exists in list\n",
    "    print(\"element exists in list : \", 3)"
   ]
  },
  {
   "cell_type": "code",
   "execution_count": 68,
   "id": "11bbd84e",
   "metadata": {},
   "outputs": [
    {
     "name": "stdout",
     "output_type": "stream",
     "text": [
      "clear a list: []\n"
     ]
    }
   ],
   "source": [
    "# 29.Different ways to clear a list in Python\n",
    "\n",
    "a = [5, 8, 3, 9, 7, 2 ]          # Defining a list\n",
    "\n",
    "del a[:]                         # clearing the list\n",
    "\n",
    "print('clear a list:', a)"
   ]
  },
  {
   "cell_type": "code",
   "execution_count": 71,
   "id": "c2a53956",
   "metadata": {},
   "outputs": [
    {
     "name": "stdout",
     "output_type": "stream",
     "text": [
      "List before reverse :  [1, 2, 3, 4, 5]\n",
      "List after reverse :  [5, 4, 3, 2, 1]\n"
     ]
    }
   ],
   "source": [
    "# 30.Python | Reversing a List\n",
    "\n",
    "a = [1, 2, 3, 4, 5]\n",
    "print(\"List before reverse : \",a)\n",
    "reversed_a = []\n",
    "for value in a:\n",
    "     reversed_a = [value] + reversed_a\n",
    "print(\"List after reverse : \", reversed_a)\n",
    " "
   ]
  },
  {
   "cell_type": "code",
   "execution_count": 73,
   "id": "9a3da272",
   "metadata": {},
   "outputs": [
    {
     "name": "stdout",
     "output_type": "stream",
     "text": [
      "sum of elements in list :  51\n"
     ]
    }
   ],
   "source": [
    "# 31.Python program to find sum of elements in list\n",
    "\n",
    "a = [2,4,8,5,7,9,6,1,4,5]              # Declare list of numbers\n",
    " \n",
    "sum=0                                  # Calculate sum of list\n",
    "for i in a:\n",
    "    sum+=i\n",
    "print('sum of elements in list : ',sum)"
   ]
  },
  {
   "cell_type": "code",
   "execution_count": 75,
   "id": "c1845008",
   "metadata": {},
   "outputs": [
    {
     "name": "stdout",
     "output_type": "stream",
     "text": [
      "320\n"
     ]
    }
   ],
   "source": [
    "# 32.Python | Multiply all numbers in the list\n",
    "\n",
    "a = [2,4,8,5]\n",
    " \n",
    "res = 1\n",
    " \n",
    "for i in a:\n",
    "    res = res * i\n",
    "print(res)"
   ]
  },
  {
   "cell_type": "code",
   "execution_count": 12,
   "id": "f8bd9b40",
   "metadata": {},
   "outputs": [
    {
     "name": "stdout",
     "output_type": "stream",
     "text": [
      "1\n"
     ]
    }
   ],
   "source": [
    "# 33.Python program to find smallest number in a list\n",
    "\n",
    "def smallest(list):                          # define a function\n",
    "    small= list[0]                           # start in smallest element\n",
    "    for i in list:                           # loop in list\n",
    "        if i<small:                          # contition check in smallest number\n",
    "            small=i\n",
    "    return small\n",
    "\n",
    "list=[2,4,8,5,7,9,6,1,4,5]                 #list in numbers\n",
    "print(smallest(list))"
   ]
  },
  {
   "cell_type": "code",
   "execution_count": 18,
   "id": "dc1378e8",
   "metadata": {},
   "outputs": [
    {
     "name": "stdout",
     "output_type": "stream",
     "text": [
      "9\n"
     ]
    }
   ],
   "source": [
    "# 34.Python program to find largest number in a list\n",
    "\n",
    "def largest(list):                          # define a function\n",
    "    large= list[0]                           # start in Largest element\n",
    "    for i in list:                           # loop in list\n",
    "        if i>large:                          # contition check in Largest number\n",
    "            large=i\n",
    "    return large\n",
    "\n",
    "list=[2,4,8,5,7,9,6,1,4,5]                 #list in numbers\n",
    "print(largest(list))"
   ]
  },
  {
   "cell_type": "code",
   "execution_count": 30,
   "id": "c10a966f",
   "metadata": {},
   "outputs": [
    {
     "name": "stdout",
     "output_type": "stream",
     "text": [
      "enter number of elements : 3\n",
      "enter element : 45\n",
      "enter element : 87\n",
      "enter element : 15\n",
      "Second largest element is :  45\n"
     ]
    }
   ],
   "source": [
    "# 35.Python program to find second largest number in a list\n",
    "\n",
    "list=[]\n",
    "\n",
    "n=int(input(\"enter number of elements : \"))\n",
    "\n",
    "for i in range(1,n+1):\n",
    "    b=int(input(\"enter element : \"))\n",
    "    list.append(b)\n",
    "    \n",
    "list.sort()\n",
    "print(\"Second largest element is : \",list[n-2])"
   ]
  },
  {
   "cell_type": "code",
   "execution_count": 31,
   "id": "a7e94837",
   "metadata": {},
   "outputs": [
    {
     "name": "stdout",
     "output_type": "stream",
     "text": [
      "enter number of elements : 3\n",
      "enter element : 45\n",
      "enter element : 78\n",
      "enter element : 12\n",
      "N largest element is :  78\n"
     ]
    }
   ],
   "source": [
    "# 36.Python program to find N largest elements from a list\n",
    "\n",
    "a=[]\n",
    "n=int(input(\"enter number of elements : \"))\n",
    "for i in range(1,n+1):\n",
    "    b=int(input(\"enter element : \"))\n",
    "    a.append(b)\n",
    "a.sort()\n",
    "print(\"N largest element is : \",a[n-1])"
   ]
  },
  {
   "cell_type": "code",
   "execution_count": 103,
   "id": "7afeda62",
   "metadata": {},
   "outputs": [
    {
     "name": "stdout",
     "output_type": "stream",
     "text": [
      "even numbers in a list 2\n",
      "even numbers in a list 4\n",
      "even numbers in a list 8\n",
      "even numbers in a list 6\n",
      "even numbers in a list 4\n"
     ]
    }
   ],
   "source": [
    "# 37.Python program to print even numbers in a list\n",
    "\n",
    "a = [2,4,8,5,7,9,6,1,4,5]                      # list of numbers\n",
    "\n",
    "for num in a:                                   # iterating each number in list\n",
    "    \n",
    "    if num % 2 == 0:                            # checking condition\n",
    "        print(\"even numbers in a list\", num)"
   ]
  },
  {
   "cell_type": "code",
   "execution_count": 111,
   "id": "89b09047",
   "metadata": {},
   "outputs": [
    {
     "name": "stdout",
     "output_type": "stream",
     "text": [
      "odd numbers in a list 5\n",
      "odd numbers in a list 7\n",
      "odd numbers in a list 9\n",
      "odd numbers in a list 1\n",
      "odd numbers in a list 5\n"
     ]
    }
   ],
   "source": [
    "# 38.Python program to print odd numbers in a List\n",
    "\n",
    "a = [2,4,8,5,7,9,6,1,4,5]                       # list of numbers\n",
    "\n",
    "for num in a:                                   # iterating each number in list\n",
    "    \n",
    "    if num % 2 != 0:                             # checking condition\n",
    "        print(\"odd numbers in a list\", num) "
   ]
  },
  {
   "cell_type": "code",
   "execution_count": 112,
   "id": "4d2ba647",
   "metadata": {},
   "outputs": [
    {
     "name": "stdout",
     "output_type": "stream",
     "text": [
      "enter the 1st number  : 2\n",
      "enter the last number : 20\n",
      "2\n",
      "4\n",
      "6\n",
      "8\n",
      "10\n",
      "12\n",
      "14\n",
      "16\n",
      "18\n",
      "20\n"
     ]
    }
   ],
   "source": [
    "# 39.Python program to print all even numbers in a range\n",
    "\n",
    "a = int(input(\"enter the 1st number  : \"))\n",
    "b = int(input(\"enter the last number : \"))\n",
    "\n",
    "for i in range(a,b+1):\n",
    "    if(i%2 == 0):\n",
    "        print(i)"
   ]
  },
  {
   "cell_type": "code",
   "execution_count": 113,
   "id": "81f6f04a",
   "metadata": {},
   "outputs": [
    {
     "name": "stdout",
     "output_type": "stream",
     "text": [
      "enter the 1st number  : 2\n",
      "enter the last number : 20\n",
      "3\n",
      "5\n",
      "7\n",
      "9\n",
      "11\n",
      "13\n",
      "15\n",
      "17\n",
      "19\n"
     ]
    }
   ],
   "source": [
    "# 40.Python program to print all odd numbers in a range\n",
    "\n",
    "a = int(input(\"enter the 1st number  : \"))\n",
    "b = int(input(\"enter the last number : \"))\n",
    "\n",
    "for i in range(a,b+1):\n",
    "    if(i%2 != 0):\n",
    "        print(i)"
   ]
  },
  {
   "cell_type": "code",
   "execution_count": 127,
   "id": "1b13d5c4",
   "metadata": {},
   "outputs": [
    {
     "name": "stdout",
     "output_type": "stream",
     "text": [
      "positive numbers in a list :  2\n",
      "positive numbers in a list :  4\n",
      "positive numbers in a list :  5\n",
      "positive numbers in a list :  9\n",
      "positive numbers in a list :  6\n",
      "positive numbers in a list :  4\n"
     ]
    }
   ],
   "source": [
    "# 41.Python program to print positive numbers in a list\n",
    "\n",
    "a = [2,4,-8,5,-7,9,6,-1,4,-5]                                # list of numbers\n",
    " \n",
    "for num in a:                                                # iterating each number in list\n",
    " \n",
    "    if num > 0:                                              # checking condition\n",
    "        print(\"positive numbers in a list : \", num)          # print positive numbers in a list"
   ]
  },
  {
   "cell_type": "code",
   "execution_count": 128,
   "id": "0c693885",
   "metadata": {},
   "outputs": [
    {
     "name": "stdout",
     "output_type": "stream",
     "text": [
      "negative numbers in a list :  -8\n",
      "negative numbers in a list :  -7\n",
      "negative numbers in a list :  -1\n",
      "negative numbers in a list :  -5\n"
     ]
    }
   ],
   "source": [
    "# 42.Python program to print negative numbers in a list\n",
    "\n",
    "a = [2,4,-8,5,-7,9,6,-1,4,-5]                                # list of numbers\n",
    " \n",
    "for num in a:                                                # iterating each number in list\n",
    " \n",
    "    if num < 0:                                              # checking condition\n",
    "        print(\"negative numbers in a list : \", num)          # print negative numbers in a list"
   ]
  },
  {
   "cell_type": "code",
   "execution_count": 135,
   "id": "1f717972",
   "metadata": {},
   "outputs": [
    {
     "name": "stdout",
     "output_type": "stream",
     "text": [
      "enter the 1st number  : -2\n",
      "enter the last number : 4\n",
      "positive numbers in a list :  0\n",
      "positive numbers in a list :  1\n",
      "positive numbers in a list :  2\n",
      "positive numbers in a list :  3\n",
      "positive numbers in a list :  4\n"
     ]
    }
   ],
   "source": [
    "# 43.Python program to print all positive numbers in a range\n",
    "\n",
    "a = int(input(\"enter the 1st number  : \"))\n",
    "b = int(input(\"enter the last number : \"))\n",
    "\n",
    "for num in range(a,b+1):\n",
    " \n",
    "    if num >= 0:                                              # checking condition\n",
    "        print(\"positive numbers in a list : \", num)          # print positive numbers in a list in a range"
   ]
  },
  {
   "cell_type": "code",
   "execution_count": 137,
   "id": "2a6ca480",
   "metadata": {},
   "outputs": [
    {
     "name": "stdout",
     "output_type": "stream",
     "text": [
      "enter the 1st number  : -8\n",
      "enter the last number : -3\n",
      "negative numbers in a list :  -8\n",
      "negative numbers in a list :  -7\n",
      "negative numbers in a list :  -6\n",
      "negative numbers in a list :  -5\n",
      "negative numbers in a list :  -4\n",
      "negative numbers in a list :  -3\n"
     ]
    }
   ],
   "source": [
    "# 44.Python program to print all negative numbers in a range\n",
    "\n",
    "a = int(input(\"enter the 1st number  : \"))\n",
    "b = int(input(\"enter the last number : \"))\n",
    "\n",
    "for num in range(a,b+1):\n",
    " \n",
    "    if num <= 0:                                              # checking condition\n",
    "        print(\"negative numbers in a list : \", num)          # print negative numbers in a list in a range"
   ]
  },
  {
   "cell_type": "code",
   "execution_count": 142,
   "id": "ab6a3928",
   "metadata": {},
   "outputs": [
    {
     "name": "stdout",
     "output_type": "stream",
     "text": [
      "[8, 4, 6, 7]\n"
     ]
    }
   ],
   "source": [
    "# 45.Remove multiple elements from a list in Python\n",
    "\n",
    "a = [2,4,8,5,7,9,6,1,3]\n",
    "b = [1, 3, 5, 2, 9]\n",
    "\n",
    "a = list(set(a) - set(b))         # Remove multiple elements from a list\n",
    "\n",
    "print(a)"
   ]
  },
  {
   "cell_type": "code",
   "execution_count": 3,
   "id": "3a40e2e7",
   "metadata": {},
   "outputs": [
    {
     "name": "stdout",
     "output_type": "stream",
     "text": [
      "The original list is : [5, 8, [], 3, [], [], 7]\n",
      "Remove empty List from List : [5, 8, 3, 7]\n"
     ]
    }
   ],
   "source": [
    "# 46.Python – Remove empty List from List\n",
    "\n",
    "a = [5, 8, [], 3, [], [], 7]                              # Initializing list by custom values\n",
    " \n",
    "print(\"The original list is : \" + str(a))                 # Print original list\n",
    "         \n",
    "res = list(filter(None, a))                               # Removing empty List from List using filter() method\n",
    "\n",
    "print(\"Remove empty List from List : \" + str(res))"
   ]
  },
  {
   "cell_type": "code",
   "execution_count": 4,
   "id": "8e883c77",
   "metadata": {},
   "outputs": [
    {
     "name": "stdout",
     "output_type": "stream",
     "text": [
      "old List :  [2, 4, 8, 5]\n",
      "new List :  [2, 4, 8, 5]\n"
     ]
    }
   ],
   "source": [
    "# 47.Python | Cloning or Copying a list\n",
    "\n",
    "a = [ 2, 4, 8, 5]\n",
    "\n",
    "copylist = a\n",
    "\n",
    "print('old List : ', a)\n",
    "print('new List : ', copylist)"
   ]
  },
  {
   "cell_type": "code",
   "execution_count": null,
   "id": "b7b341a7",
   "metadata": {},
   "outputs": [],
   "source": [
    "# 48.Python | Count occurrences of an element in a list\n",
    "\n"
   ]
  },
  {
   "cell_type": "code",
   "execution_count": 9,
   "id": "ea524709",
   "metadata": {},
   "outputs": [
    {
     "name": "stdout",
     "output_type": "stream",
     "text": [
      "<filter object at 0x000002DF690FC3A0>\n"
     ]
    }
   ],
   "source": [
    "# 49.Python | Remove empty tuples from a list\n",
    "\n",
    "def Remove(tuples):\n",
    "    tuples = filter(None, tuples)\n",
    "    return tuples\n",
    " \n",
    "tuples = ( 8, (), 2, 4, (), 8, 5)\n",
    "print (Remove(tuples))"
   ]
  },
  {
   "cell_type": "code",
   "execution_count": 16,
   "id": "6e58e95e",
   "metadata": {},
   "outputs": [
    {
     "name": "stdout",
     "output_type": "stream",
     "text": [
      "duplicates from a list of integers : \n",
      "2\n",
      "3\n",
      "8\n"
     ]
    }
   ],
   "source": [
    "# 50.Python | Program to print duplicates from a list of integers\n",
    "    \n",
    "a = [1, 2, 3, 4, 2, 7, 8, 8, 3];                      #Initialize array \n",
    "     \n",
    "print(\"duplicates from a list of integers : \");    \n",
    "    \n",
    "for i in range(0, len(a)):                            #Searches for duplicate element\n",
    "    for j in range(i+1, len(a)):    \n",
    "        if(a[i] == a[j]):    \n",
    "            print(a[j]);  "
   ]
  },
  {
   "cell_type": "code",
   "execution_count": 19,
   "id": "cdaf7959",
   "metadata": {},
   "outputs": [
    {
     "name": "stdout",
     "output_type": "stream",
     "text": [
      "[1, 3, 6, 10, 15, 21, 28, 36, 45, 55]\n"
     ]
    }
   ],
   "source": [
    "# 51.Python program to find Cumulative sum of a list\n",
    "\n",
    "a = [1, 2, 3, 4, 5, 6, 7, 8, 9, 10]            # create list\n",
    "\n",
    "b = []                                         # create empty cumulative sum of a list\n",
    "\n",
    "s = 0                                          # declare variable for sum\n",
    "\n",
    "for i in a:                                    # use for loop and append s to b\n",
    "    s += i\n",
    "    b.append(s)\n",
    "\n",
    "print(b)                                       # print cumulative list"
   ]
  },
  {
   "cell_type": "code",
   "execution_count": 33,
   "id": "8c8cad87",
   "metadata": {},
   "outputs": [
    {
     "name": "stdout",
     "output_type": "stream",
     "text": [
      "17\n"
     ]
    }
   ],
   "source": [
    "# 52.Python | Sum of number digits in List\n",
    "\n",
    "def Sum(n):\n",
    "    \n",
    "    sum = 0\n",
    "    while (n != 0):\n",
    "       \n",
    "        sum = sum + (n % 10)\n",
    "        n = n//10\n",
    "       \n",
    "    return sum\n",
    "   \n",
    "n = 54215\n",
    "print(Sum(n))"
   ]
  },
  {
   "cell_type": "code",
   "execution_count": null,
   "id": "fcc3325e",
   "metadata": {},
   "outputs": [],
   "source": [
    "# 53.Break a list into chunks of size N in Python"
   ]
  },
  {
   "cell_type": "code",
   "execution_count": null,
   "id": "ba10e9d7",
   "metadata": {},
   "outputs": [],
   "source": [
    "# 54.Python | Sort the values of first list using second list\n"
   ]
  },
  {
   "cell_type": "code",
   "execution_count": 42,
   "id": "de034d02",
   "metadata": {},
   "outputs": [
    {
     "name": "stdout",
     "output_type": "stream",
     "text": [
      "['1', '2', '3', '4', '5', '6']\n"
     ]
    }
   ],
   "source": [
    "# 55.Remove empty List from List\n",
    "\n",
    "list = [\"1\",\"\", \"2\", \"3\",\"\", \"4\",\"\", \"5\", \"6\"]\n",
    "\n",
    "a = []\n",
    "for x in list:\n",
    "    if x != '':\n",
    "        a.append(x)\n",
    "\n",
    "print(a)"
   ]
  },
  {
   "cell_type": "code",
   "execution_count": 43,
   "id": "d4466166",
   "metadata": {},
   "outputs": [
    {
     "name": "stdout",
     "output_type": "stream",
     "text": [
      "{'x': 1, 'y': 2, 'z': 3}\n"
     ]
    }
   ],
   "source": [
    "# 56.Python – Convert List to List of dictionaries\n",
    "\n",
    "def Convert_dict(a):  \n",
    "    init = iter(list1)  \n",
    "    res_dct = dict(zip(init, init))  \n",
    "    return res_dct  \n",
    "  \n",
    "    \n",
    "list1 = ['x', 1, 'y', 2, 'z', 3]  \n",
    "print(Convert_dict(list1)) "
   ]
  },
  {
   "cell_type": "code",
   "execution_count": null,
   "id": "53446d23",
   "metadata": {},
   "outputs": [],
   "source": [
    "# 57.Python – Convert Lists of List to Dictionary"
   ]
  },
  {
   "cell_type": "code",
   "execution_count": 45,
   "id": "b0311c23",
   "metadata": {},
   "outputs": [
    {
     "name": "stdout",
     "output_type": "stream",
     "text": [
      " 1st list : [[1, 2], [3, 4], [5, 6]]\n",
      " 2nd list : [[3, 4], [5, 7], [1, 2]]\n",
      "Uncommon elements in Lists of List : [[5, 6], [5, 7]]\n"
     ]
    }
   ],
   "source": [
    "# 58.Python | Uncommon elements in Lists of List\n",
    "\n",
    "list1 = [ [1, 2], [3, 4], [5, 6] ]                    # initializing lists\n",
    "list2 = [ [3, 4], [5, 7], [1, 2] ]\n",
    " \n",
    "print (\" 1st list : \" + str(list1))                   # printing both lists\n",
    "print (\" 2nd list : \" + str(list2))\n",
    " \n",
    "res_list = []                                        # Uncommon elements in List\n",
    "for i in list1:\n",
    "    if i not in list2:\n",
    "        res_list.append(i)\n",
    "for i in list2:\n",
    "    if i not in list1:\n",
    "        res_list.append(i)\n",
    "         \n",
    "print (\"Uncommon elements in Lists of List : \" + str(res_list))"
   ]
  },
  {
   "cell_type": "code",
   "execution_count": 49,
   "id": "35dd4d8b",
   "metadata": {},
   "outputs": [
    {
     "name": "stdout",
     "output_type": "stream",
     "text": [
      "unique values inside a list  3\n"
     ]
    }
   ],
   "source": [
    "# 59.Python Program to count unique values inside a list\n",
    "\n",
    "list = [1, 1, 2, 2, 3]\n",
    "set = set(list)\n",
    "list1 = len(set)\n",
    "print(\"unique values inside a list \", (list1))\n"
   ]
  },
  {
   "cell_type": "code",
   "execution_count": null,
   "id": "fe8d3508",
   "metadata": {},
   "outputs": [],
   "source": [
    "# 60.Python – List product excluding duplicates"
   ]
  }
 ],
 "metadata": {
  "kernelspec": {
   "display_name": "Python 3 (ipykernel)",
   "language": "python",
   "name": "python3"
  },
  "language_info": {
   "codemirror_mode": {
    "name": "ipython",
    "version": 3
   },
   "file_extension": ".py",
   "mimetype": "text/x-python",
   "name": "python",
   "nbconvert_exporter": "python",
   "pygments_lexer": "ipython3",
   "version": "3.9.7"
  }
 },
 "nbformat": 4,
 "nbformat_minor": 5
}
